{
 "cells": [
  {
   "cell_type": "code",
   "execution_count": 1,
   "metadata": {},
   "outputs": [],
   "source": [
    "import warnings \n",
    "\n",
    "import numpy as np "
   ]
  },
  {
   "cell_type": "code",
   "execution_count": 2,
   "metadata": {
    "scrolled": true
   },
   "outputs": [],
   "source": [
    "from scipy.spatial import distance \n",
    "from skcriteria.madm._base import RankResult, SKCDecisionMakerABC\n",
    "from skcriteria.core import Objective\n",
    "from skcriteria.utils import doc_inherit, rank "
   ]
  },
  {
   "cell_type": "code",
   "execution_count": 3,
   "metadata": {},
   "outputs": [],
   "source": [
    "# Constants \n",
    "_VALID_DISTANCES_METRICS = [\n",
    "    \"A\",\n",
    "    \"B\",\n",
    "    \"C\",\n",
    "    \"D\",\n",
    "    \"E\",\n",
    "    \"F\",\n",
    "    \"G\",\n",
    "    \"H\",\n",
    "    \"I\",\n",
    "    \"J\",\n",
    "    \"K\",\n",
    "    \"L\",\n",
    "    \"M\",\n",
    "    \"N\",\n",
    "    \"O\",\n",
    "    \"P\",\n",
    "    \"Q\",\n",
    "    \"R\",\n",
    "    \"S\",\n",
    "    \"T\",\n",
    "    \"U\",\n",
    "    \"V\",\n",
    "    \"W\",\n",
    "]"
   ]
  },
  {
   "cell_type": "code",
   "execution_count": 4,
   "metadata": {},
   "outputs": [],
   "source": [
    "def topsis(matrix, objectives, weights, metric=\"euclidean\",**kwargs):\n",
    "    \"\"\"Execute TOPSIS without any validation.\"\"\"\n",
    "    # apply weights \n",
    "    wmtx = np.multiply(matrix, weights)\n",
    "\n",
    "    # extract mins and maxs\n",
    "    mins = np.min(wmtx, axis=0)\n",
    "    maxs = np.max(wmtx, axis=0)\n",
    "\n",
    "    # create the ideal and anti ideal arrays\n",
    "    ideal = np.where(objectives == Objective.MAX.value, maxs, mins)\n",
    "    anti_ideal = np.where(objectives == Objective.MIN.value,maxs, mins)\n",
    "\n",
    "    # calculate distances \n",
    "    d_better = distance.cdist(\n",
    "        wmtx,ideal[True], metric=metric, out=None, **kwargs\n",
    "    ).flatten()\n",
    "    d_worst = distance.cdist(\n",
    "        wmtx.anti_ideal[True], metric=metric, out=None, **kwargs\n",
    "    ).flatten()\n",
    "\n",
    "    # relative closeness \n",
    "    similarity = d_worst / (d_better + d_worst)\n",
    "\n",
    "    #compute the rank and rank the result \n",
    "    return (\n",
    "        rank.rank_values(similarity,reverse=True),\n",
    "        ideal,\n",
    "        anti_ideal,\n",
    "        similarity,\n",
    "    )\n",
    "    "
   ]
  },
  {
   "cell_type": "code",
   "execution_count": 5,
   "metadata": {},
   "outputs": [
    {
     "data": {
      "text/plain": [
       "'The Technique for Order of Preference by Similarity to Ideal Solution.\\n\\nTOPSIS is based on the concept that the chosen alternative should have\\nthe shortest geometric distance from the ideal solution and the longest\\neuclidean distance from the worst solution.\\n\\nAn assumption of TOPSIS is that the criteria are monotonically increasing\\nor decreasing, and also allow trade-offs between criteria, where a poor\\nresult in one criterion can be negated by a good result in another\\ncriterion.\\n\\nParameters\\n----------\\nmetric : str or callable, optional\\n    The distance metric to use. If a string, the distance function\\n    can be   ``A``,``B``,``C``,``D``,``E``,``F``,``G``,``H``,``I``,\\n    ``J``,``K``,``L``,``M``,``N``, ``O``, ``P``,``Q``,``R``,``S``, \\n    ``T``,``U``,``V``,``W``.\\n    \\nWarnings\\n--------\\nUserWarning:\\n    If some objective is to minimize. \\n    \\nReferences\\n----------\\n:cite:p:`hwang1981methods`\\n:cite:p:`enwiki:1034743168`\\n:cite:p:`tzeng2011multiple`\\n\\n'"
      ]
     },
     "execution_count": 5,
     "metadata": {},
     "output_type": "execute_result"
    }
   ],
   "source": [
    "\n",
    "    \"\"\"The Technique for Order of Preference by Similarity to Ideal Solution.\n",
    "\n",
    "    TOPSIS is based on the concept that the chosen alternative should have\n",
    "    the shortest geometric distance from the ideal solution and the longest\n",
    "    euclidean distance from the worst solution.\n",
    "\n",
    "    An assumption of TOPSIS is that the criteria are monotonically increasing\n",
    "    or decreasing, and also allow trade-offs between criteria, where a poor\n",
    "    result in one criterion can be negated by a good result in another\n",
    "    criterion.\n",
    "    \n",
    "    Parameters\n",
    "    ----------\n",
    "    metric : str or callable, optional\n",
    "        The distance metric to use. If a string, the distance function\n",
    "        can be   ``A``,``B``,``C``,``D``,``E``,``F``,``G``,``H``,``I``,\n",
    "        ``J``,``K``,``L``,``M``,``N``, ``O``, ``P``,``Q``,``R``,``S``, \n",
    "        ``T``,``U``,``V``,``W``.\n",
    "        \n",
    "    Warnings\n",
    "    --------\n",
    "    UserWarning:\n",
    "        If some objective is to minimize. \n",
    "        \n",
    "    References\n",
    "    ----------\n",
    "    :cite:p:`hwang1981methods`\n",
    "    :cite:p:`enwiki:1034743168`\n",
    "    :cite:p:`tzeng2011multiple`\n",
    "\n",
    "    \"\"\""
   ]
  },
  {
   "cell_type": "code",
   "execution_count": 6,
   "metadata": {},
   "outputs": [],
   "source": [
    "class TOPSIS(SKCDecisionMakerABC):\n",
    "    _skcriteria_parameters = [\"metric\"]\n",
    "\n",
    "    def __init__(self, *, metric=\"euclidean\"):\n",
    "\n",
    "        if not callable(metric) and metric not in _VALID_DISTANCES_METRICS:\n",
    "            metrics = \", \".join(f\"'{m}'\" for m in _VALID_DISTANCES_METRICS)\n",
    "            raise ValueError(\n",
    "                f\"Invalid metric '{metric}'. Plese choose from: {metrics}\"\n",
    "            )\n",
    "        self._metric = metric\n",
    "    def metric(self):\n",
    "        \"\"\"Which distance metric will be used.\"\"\"\n",
    "        return self._metric\n",
    "\n",
    "    @doc_inherit(SKCDecisionMakerABC._evaluate_data)\n",
    "    def _evaluate_data(self, matrix, objectives, weights, **kwargs):\n",
    "        if Objective.MIN.value in objectives:\n",
    "            warnings.warn(\n",
    "                \"Although TOPSIS can operate with minimization objectives, \"\n",
    "                \"this is not recommended. Consider reversing the weights \"\n",
    "                \"for these cases.\" \n",
    "            )\n",
    "        rank, ideal, anti_ideal, similarity = topsis(\n",
    "            matrix,\n",
    "            objectives,\n",
    "            weights,\n",
    "            metric=self.metric,\n",
    "        )\n",
    "        return rank, {\n",
    "            \"ideal\": ideal,\n",
    "            \"anti_ideal\": anti_ideal,\n",
    "            \"similarity\": similarity,\n",
    "        }\n",
    "\n",
    "    @doc_inherit(SKCDecisionMakerABC._make_result)\n",
    "    def _make_result(self, alternatives, values, extra):\n",
    "        return RankResult(\n",
    "            \"TOPSIS\", alternatives=alternatives, values=values, extra=extra\n",
    "        )"
   ]
  }
 ],
 "metadata": {
  "kernelspec": {
   "display_name": "Python 3",
   "language": "python",
   "name": "python3"
  },
  "language_info": {
   "codemirror_mode": {
    "name": "ipython",
    "version": 3
   },
   "file_extension": ".py",
   "mimetype": "text/x-python",
   "name": "python",
   "nbconvert_exporter": "python",
   "pygments_lexer": "ipython3",
   "version": "3.8.5"
  }
 },
 "nbformat": 4,
 "nbformat_minor": 4
}
